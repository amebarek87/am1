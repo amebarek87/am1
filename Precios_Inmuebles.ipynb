{
 "cells": [
  {
   "cell_type": "code",
   "execution_count": null,
   "metadata": {},
   "outputs": [],
   "source": [
    "#Importa la libreria pandas\n",
    "import pandas as pd "
   ]
  },
  {
   "cell_type": "code",
   "execution_count": null,
   "metadata": {},
   "outputs": [],
   "source": [
    "#Genera el dataframe 'base' a partir del fichero de excel\n",
    "base=pd.read_excel('https://github.com/amebarek87/am1/blob/main/Inmuebles.xls?raw=true') \n",
    "#base=pd.read_excel('C:\\\\...')"
   ]
  },
  {
   "cell_type": "code",
   "execution_count": null,
   "metadata": {},
   "outputs": [],
   "source": [
    "#Muestra las primeras 5 lineas de nuestro dataframe \n",
    "base.head()"
   ]
  },
  {
   "cell_type": "code",
   "execution_count": null,
   "metadata": {},
   "outputs": [],
   "source": [
    "#Agrega los datos de superficie segun provincia\n",
    "superficie_total=base.groupby('Provincia',as_index=False).agg({'Superficie':'sum'})"
   ]
  },
  {
   "cell_type": "code",
   "execution_count": null,
   "metadata": {},
   "outputs": [],
   "source": [
    "#Agrega los datos de Precio de los inmuebles segun provincia\n",
    "Precio_total=base.groupby('Provincia',as_index=False).agg({'Precio Venta':'sum'})"
   ]
  },
  {
   "cell_type": "code",
   "execution_count": null,
   "metadata": {},
   "outputs": [],
   "source": [
    "#Une la base superficie_total con la base Precio_total usando la variable 'Provincia'\n",
    "base_nueva=superficie_total.merge(Precio_total)"
   ]
  },
  {
   "cell_type": "code",
   "execution_count": null,
   "metadata": {},
   "outputs": [],
   "source": [
    "#Genera una nueva variable promedio que es el resultado de la division de la variable 'Precio Total' y 'Superficie Total'\n",
    "base_nueva['precio promedio']=base_nueva['Precio Venta']/base_nueva['Superficie']"
   ]
  },
  {
   "cell_type": "code",
   "execution_count": null,
   "metadata": {},
   "outputs": [],
   "source": [
    "base_nueva.head()"
   ]
  },
  {
   "cell_type": "code",
   "execution_count": null,
   "metadata": {},
   "outputs": [],
   "source": [
    "base_nueva.drop(columns=['Superficie','Precio Venta'], inplace=True) #Elimina las variables 'Superficie' y 'Precio Venta'"
   ]
  },
  {
   "cell_type": "code",
   "execution_count": null,
   "metadata": {},
   "outputs": [],
   "source": [
    "base_nueva.head()"
   ]
  },
  {
   "cell_type": "code",
   "execution_count": null,
   "metadata": {},
   "outputs": [],
   "source": [
    "base_final=base.merge(base_nueva) #Une los datos de 'Base' con 'Base_nueva' usando la variable 'Provincia'"
   ]
  },
  {
   "cell_type": "code",
   "execution_count": null,
   "metadata": {},
   "outputs": [],
   "source": [
    "base_final.head()"
   ]
  },
  {
   "cell_type": "code",
   "execution_count": null,
   "metadata": {},
   "outputs": [],
   "source": [
    "base_final['precio por m2']=base_final['Precio Venta']/base_final['Superficie'] # genera una nueva variable"
   ]
  },
  {
   "cell_type": "code",
   "execution_count": null,
   "metadata": {},
   "outputs": [],
   "source": [
    "base_final.head()"
   ]
  },
  {
   "cell_type": "code",
   "execution_count": null,
   "metadata": {},
   "outputs": [],
   "source": [
    "#filtra los datos segun las condiciones especificadas\n",
    "base_final.loc[(base_final['Provincia']=='Barcelona') & (base_final['precio por m2']<base_final['precio promedio'])] "
   ]
  },
  {
   "cell_type": "code",
   "execution_count": null,
   "metadata": {},
   "outputs": [],
   "source": [
    "#Se guarda la base filtrada en un nuevo dataframe\n",
    "base_excel=base_final.loc[(base_final['Provincia']=='Barcelona') & (base_final['precio por m2']<base_final['precio promedio'])]"
   ]
  },
  {
   "cell_type": "code",
   "execution_count": null,
   "metadata": {},
   "outputs": [],
   "source": [
    "#se pasa el dataframe a un ficher excel \n",
    "base_excel.to_excel(r'C:\\Users\\dc_an\\videos\\export_dataframe.xlsx', index = False, header=True)"
   ]
  },
  {
   "cell_type": "code",
   "execution_count": null,
   "metadata": {},
   "outputs": [],
   "source": []
  },
  {
   "cell_type": "code",
   "execution_count": null,
   "metadata": {},
   "outputs": [],
   "source": []
  },
  {
   "cell_type": "code",
   "execution_count": null,
   "metadata": {},
   "outputs": [],
   "source": []
  }
 ],
 "metadata": {
  "kernelspec": {
   "display_name": "Python 3",
   "language": "python",
   "name": "python3"
  },
  "language_info": {
   "codemirror_mode": {
    "name": "ipython",
    "version": 3
   },
   "file_extension": ".py",
   "mimetype": "text/x-python",
   "name": "python",
   "nbconvert_exporter": "python",
   "pygments_lexer": "ipython3",
   "version": "3.8.5"
  }
 },
 "nbformat": 4,
 "nbformat_minor": 4
}
